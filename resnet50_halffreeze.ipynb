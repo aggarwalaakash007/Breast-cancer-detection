{
 "cells": [
  {
   "cell_type": "code",
   "execution_count": 1,
   "metadata": {
    "collapsed": true
   },
   "outputs": [],
   "source": [
    "import glob, os\n",
    "import cv2\n",
    "import numpy as np"
   ]
  },
  {
   "cell_type": "code",
   "execution_count": 2,
   "metadata": {
    "collapsed": true
   },
   "outputs": [],
   "source": [
    "def image_array(filename,size):\n",
    "    array = cv2.imread(filename)\n",
    "    array = cv2.resize(array, (size, size)) \n",
    "    return array"
   ]
  },
  {
   "cell_type": "code",
   "execution_count": 3,
   "metadata": {
    "collapsed": true
   },
   "outputs": [],
   "source": [
    "os.chdir('benign')"
   ]
  },
  {
   "cell_type": "code",
   "execution_count": 4,
   "metadata": {
    "collapsed": true
   },
   "outputs": [],
   "source": [
    "benign = []\n",
    "for file in glob.glob(\"*.png\"):\n",
    "    array = image_array(file, 224)\n",
    "    benign.append(array)"
   ]
  },
  {
   "cell_type": "code",
   "execution_count": 5,
   "metadata": {
    "collapsed": true
   },
   "outputs": [],
   "source": [
    "os.chdir('..')\n",
    "os.chdir('benign_augmented')"
   ]
  },
  {
   "cell_type": "code",
   "execution_count": 6,
   "metadata": {
    "collapsed": true
   },
   "outputs": [],
   "source": [
    "for file in glob.glob(\"*.png\"):\n",
    "    array = image_array(file, 224)\n",
    "    benign.append(array)"
   ]
  },
  {
   "cell_type": "code",
   "execution_count": 7,
   "metadata": {},
   "outputs": [
    {
     "data": {
      "text/plain": [
       "(4960, 224, 224, 3)"
      ]
     },
     "execution_count": 7,
     "metadata": {},
     "output_type": "execute_result"
    }
   ],
   "source": [
    "benign = np.asarray(benign)\n",
    "benign.shape"
   ]
  },
  {
   "cell_type": "code",
   "execution_count": 8,
   "metadata": {
    "collapsed": true
   },
   "outputs": [],
   "source": [
    "os.chdir('..')\n",
    "os.chdir('malignant')"
   ]
  },
  {
   "cell_type": "code",
   "execution_count": 9,
   "metadata": {
    "collapsed": true
   },
   "outputs": [],
   "source": [
    "malignant = []\n",
    "for file in glob.glob(\"*.png\"):\n",
    "    array = image_array(file, 224)\n",
    "    malignant.append(array)"
   ]
  },
  {
   "cell_type": "code",
   "execution_count": 10,
   "metadata": {},
   "outputs": [
    {
     "data": {
      "text/plain": [
       "(5429, 224, 224, 3)"
      ]
     },
     "execution_count": 10,
     "metadata": {},
     "output_type": "execute_result"
    }
   ],
   "source": [
    "malignant = np.asarray(malignant)\n",
    "malignant.shape"
   ]
  },
  {
   "cell_type": "code",
   "execution_count": 11,
   "metadata": {},
   "outputs": [
    {
     "data": {
      "text/plain": [
       "(10389, 224, 224, 3)"
      ]
     },
     "execution_count": 11,
     "metadata": {},
     "output_type": "execute_result"
    }
   ],
   "source": [
    "data = np.concatenate((benign, malignant), axis = 0)\n",
    "data.shape"
   ]
  },
  {
   "cell_type": "code",
   "execution_count": 12,
   "metadata": {
    "collapsed": true
   },
   "outputs": [],
   "source": [
    "label = []\n",
    "for i in range(4960):\n",
    "    label.append('benign')\n",
    "    \n",
    "for i in range(5429):\n",
    "    label.append('malignant')"
   ]
  },
  {
   "cell_type": "code",
   "execution_count": 13,
   "metadata": {},
   "outputs": [
    {
     "data": {
      "text/plain": [
       "(10389,)"
      ]
     },
     "execution_count": 13,
     "metadata": {},
     "output_type": "execute_result"
    }
   ],
   "source": [
    "y = np.asarray(label)\n",
    "y.shape"
   ]
  },
  {
   "cell_type": "code",
   "execution_count": 14,
   "metadata": {
    "collapsed": true
   },
   "outputs": [],
   "source": [
    "def one_hot_encoding(array):\n",
    "    df = pd.DataFrame(array, index = None)\n",
    "    data = pd.get_dummies(df)\n",
    "    data = np.asarray(data)\n",
    "    return data"
   ]
  },
  {
   "cell_type": "code",
   "execution_count": 15,
   "metadata": {},
   "outputs": [
    {
     "data": {
      "text/plain": [
       "(10389, 2)"
      ]
     },
     "execution_count": 15,
     "metadata": {},
     "output_type": "execute_result"
    }
   ],
   "source": [
    "import pandas as pd\n",
    "label = one_hot_encoding(y)\n",
    "label.shape"
   ]
  },
  {
   "cell_type": "code",
   "execution_count": 16,
   "metadata": {},
   "outputs": [
    {
     "name": "stderr",
     "output_type": "stream",
     "text": [
      "/home/itachi/anaconda3/lib/python3.6/site-packages/sklearn/cross_validation.py:41: DeprecationWarning: This module was deprecated in version 0.18 in favor of the model_selection module into which all the refactored classes and functions are moved. Also note that the interface of the new CV iterators are different from that of this module. This module will be removed in 0.20.\n",
      "  \"This module will be removed in 0.20.\", DeprecationWarning)\n"
     ]
    }
   ],
   "source": [
    "import sklearn\n",
    "from sklearn import cross_validation"
   ]
  },
  {
   "cell_type": "code",
   "execution_count": 17,
   "metadata": {
    "collapsed": true
   },
   "outputs": [],
   "source": [
    "x_train, x_test, y_train, y_test = sklearn.cross_validation.train_test_split(data, label , test_size = 0.3 , random_state = 100)"
   ]
  },
  {
   "cell_type": "code",
   "execution_count": 18,
   "metadata": {},
   "outputs": [
    {
     "data": {
      "text/plain": [
       "(7272, 224, 224, 3)"
      ]
     },
     "execution_count": 18,
     "metadata": {},
     "output_type": "execute_result"
    }
   ],
   "source": [
    "x_train.shape"
   ]
  },
  {
   "cell_type": "code",
   "execution_count": 19,
   "metadata": {},
   "outputs": [
    {
     "data": {
      "text/plain": [
       "(3117, 224, 224, 3)"
      ]
     },
     "execution_count": 19,
     "metadata": {},
     "output_type": "execute_result"
    }
   ],
   "source": [
    "x_test.shape"
   ]
  },
  {
   "cell_type": "code",
   "execution_count": 20,
   "metadata": {},
   "outputs": [
    {
     "name": "stderr",
     "output_type": "stream",
     "text": [
      "Using TensorFlow backend.\n"
     ]
    }
   ],
   "source": [
    "from keras.models import Sequential\n",
    "from scipy.misc import imread\n",
    "get_ipython().magic('matplotlib inline')\n",
    "import matplotlib.pyplot as plt\n",
    "import numpy as np\n",
    "import keras\n",
    "from keras.layers import Dense\n",
    "import pandas as pd\n",
    "\n",
    "from keras.applications.resnet50 import ResNet50\n",
    "from keras.preprocessing import image\n",
    "from keras.applications.resnet50 import preprocess_input\n",
    "import numpy as np\n",
    "from keras.applications.resnet50 import decode_predictions\n",
    "from keras.activations import softmax\n",
    "import types\n",
    "import tempfile\n",
    "import keras.models\n",
    "from keras.layers import Activation, Dense"
   ]
  },
  {
   "cell_type": "code",
   "execution_count": 21,
   "metadata": {
    "collapsed": true
   },
   "outputs": [],
   "source": [
    "x_train = np.array(x_train , dtype = 'float')\n",
    "x_test = np.array(x_test , dtype = 'float')"
   ]
  },
  {
   "cell_type": "code",
   "execution_count": 22,
   "metadata": {
    "collapsed": true
   },
   "outputs": [],
   "source": [
    "train = preprocess_input(x_train)\n",
    "test = preprocess_input(x_test)"
   ]
  },
  {
   "cell_type": "code",
   "execution_count": null,
   "metadata": {
    "collapsed": true
   },
   "outputs": [],
   "source": [
    "train = features_train.reshape(features_train.shape[0] , -1)\n",
    "test = features_test.reshape(features_test.shape[0] , -1)\n",
    "training_epochs = 20\n",
    "n_dim = train.shape[1]\n",
    "print(n_dim)\n",
    "n_class = 2"
   ]
  },
  {
   "cell_type": "code",
   "execution_count": 23,
   "metadata": {
    "collapsed": true
   },
   "outputs": [],
   "source": [
    "def resnet_model(img_rows, img_cols, channel=1, num_classes=None):\n",
    "\n",
    "    model = ResNet50(weights='imagenet', include_top=True)\n",
    "\n",
    "    model.layers.pop()\n",
    "\n",
    "    model.outputs = [model.layers[-1].output]\n",
    "\n",
    "    model.layers[-1].outbound_nodes = []\n",
    "\n",
    "          x=Dense(num_classes, activation='softmax')(model.output)\n",
    "\n",
    "    model=Model(model.input,x)\n",
    "\n",
    "#To set the first 8 layers to non-trainable (weights will not be updated)\n",
    "\n",
    "          for layer in model.layers[:8]:\n",
    "\n",
    "       layer.trainable = False\n",
    "\n",
    "    model.compile(optimizer= \"adam\", loss='categorical_crossentropy', metrics=['accuracy'])\n",
    "\n",
    "    return model"
   ]
  },
  {
   "cell_type": "code",
   "execution_count": 33,
   "metadata": {
    "collapsed": true
   },
   "outputs": [],
   "source": [
    "model = resnet_model(224, 224, channel = 3, num_classes = n_class)"
   ]
  },
  {
   "cell_type": "code",
   "execution_count": 35,
   "metadata": {},
   "outputs": [
    {
     "name": "stdout",
     "output_type": "stream",
     "text": [
      "Train on 7272 samples, validate on 3117 samples\n",
      "Epoch 1/50\n",
      "7272/7272 [==============================] - 2s 233us/step - loss: 0.2983 - acc: 0.8938 - val_loss: 0.1964 - val_acc: 0.9310\n",
      "Epoch 2/50\n",
      "7272/7272 [==============================] - 1s 134us/step - loss: 0.1685 - acc: 0.9403 - val_loss: 0.1514 - val_acc: 0.9474\n",
      "Epoch 3/50\n",
      "7272/7272 [==============================] - 1s 136us/step - loss: 0.1154 - acc: 0.9618 - val_loss: 0.1348 - val_acc: 0.9464\n",
      "Epoch 4/50\n",
      "7272/7272 [==============================] - 1s 134us/step - loss: 0.0949 - acc: 0.9674 - val_loss: 0.1249 - val_acc: 0.9551\n",
      "Epoch 5/50\n",
      "7272/7272 [==============================] - 1s 136us/step - loss: 0.0652 - acc: 0.9787 - val_loss: 0.1228 - val_acc: 0.9532\n",
      "Epoch 6/50\n",
      "7272/7272 [==============================] - 1s 133us/step - loss: 0.0486 - acc: 0.9840 - val_loss: 0.1028 - val_acc: 0.9621\n",
      "Epoch 7/50\n",
      "7272/7272 [==============================] - 1s 134us/step - loss: 0.0331 - acc: 0.9906 - val_loss: 0.1079 - val_acc: 0.9612\n",
      "Epoch 8/50\n",
      "7272/7272 [==============================] - 1s 141us/step - loss: 0.0362 - acc: 0.9879 - val_loss: 0.1094 - val_acc: 0.9621\n",
      "Epoch 9/50\n",
      "7272/7272 [==============================] - 1s 156us/step - loss: 0.0376 - acc: 0.9865 - val_loss: 0.1137 - val_acc: 0.9596\n",
      "Epoch 10/50\n",
      "7272/7272 [==============================] - 1s 139us/step - loss: 0.0191 - acc: 0.9945 - val_loss: 0.1312 - val_acc: 0.9605\n",
      "Epoch 11/50\n",
      "7272/7272 [==============================] - 1s 136us/step - loss: 0.0411 - acc: 0.9847 - val_loss: 0.1308 - val_acc: 0.9577\n",
      "Epoch 12/50\n",
      "7272/7272 [==============================] - 1s 134us/step - loss: 0.0270 - acc: 0.9912 - val_loss: 0.1212 - val_acc: 0.9637\n",
      "Epoch 13/50\n",
      "7272/7272 [==============================] - 1s 148us/step - loss: 0.0244 - acc: 0.9909 - val_loss: 0.1234 - val_acc: 0.9631\n",
      "Epoch 14/50\n",
      "7272/7272 [==============================] - 1s 151us/step - loss: 0.0063 - acc: 0.9986 - val_loss: 0.1341 - val_acc: 0.9641\n",
      "Epoch 15/50\n",
      "7272/7272 [==============================] - 1s 134us/step - loss: 0.0103 - acc: 0.9970 - val_loss: 0.1948 - val_acc: 0.9445\n",
      "Epoch 16/50\n",
      "7272/7272 [==============================] - 1s 141us/step - loss: 0.0345 - acc: 0.9880 - val_loss: 0.1553 - val_acc: 0.9577\n",
      "Epoch 17/50\n",
      "7272/7272 [==============================] - 1s 139us/step - loss: 0.0258 - acc: 0.9919 - val_loss: 0.1785 - val_acc: 0.9394\n",
      "Epoch 18/50\n",
      "7272/7272 [==============================] - 1s 135us/step - loss: 0.0191 - acc: 0.9935 - val_loss: 0.1240 - val_acc: 0.9631\n",
      "Epoch 19/50\n",
      "7272/7272 [==============================] - 1s 135us/step - loss: 0.0249 - acc: 0.9909 - val_loss: 0.1182 - val_acc: 0.9637\n",
      "Epoch 20/50\n",
      "7272/7272 [==============================] - 1s 159us/step - loss: 0.0061 - acc: 0.9989 - val_loss: 0.1390 - val_acc: 0.9628\n",
      "Epoch 21/50\n",
      "7272/7272 [==============================] - 1s 166us/step - loss: 0.0072 - acc: 0.9978 - val_loss: 0.1375 - val_acc: 0.9641\n",
      "Epoch 22/50\n",
      "7272/7272 [==============================] - 1s 160us/step - loss: 0.0070 - acc: 0.9975 - val_loss: 0.1583 - val_acc: 0.9628\n",
      "Epoch 23/50\n",
      "7272/7272 [==============================] - 1s 156us/step - loss: 0.0553 - acc: 0.9801 - val_loss: 0.1330 - val_acc: 0.9631\n",
      "Epoch 24/50\n",
      "7272/7272 [==============================] - 1s 162us/step - loss: 0.0139 - acc: 0.9956 - val_loss: 0.1214 - val_acc: 0.9654\n",
      "Epoch 25/50\n",
      "7272/7272 [==============================] - 1s 167us/step - loss: 0.0057 - acc: 0.9988 - val_loss: 0.1204 - val_acc: 0.9689\n",
      "Epoch 26/50\n",
      "7272/7272 [==============================] - 1s 163us/step - loss: 0.0044 - acc: 0.9986 - val_loss: 0.1259 - val_acc: 0.9666\n",
      "Epoch 27/50\n",
      "7272/7272 [==============================] - 1s 167us/step - loss: 0.0056 - acc: 0.9982 - val_loss: 0.1633 - val_acc: 0.9570\n",
      "Epoch 28/50\n",
      "7272/7272 [==============================] - 1s 159us/step - loss: 0.0255 - acc: 0.9916 - val_loss: 0.1425 - val_acc: 0.9589\n",
      "Epoch 29/50\n",
      "7272/7272 [==============================] - 1s 126us/step - loss: 0.0333 - acc: 0.9875 - val_loss: 0.1424 - val_acc: 0.9577\n",
      "Epoch 30/50\n",
      "7272/7272 [==============================] - 1s 127us/step - loss: 0.0114 - acc: 0.9967 - val_loss: 0.1780 - val_acc: 0.9519\n",
      "Epoch 31/50\n",
      "7272/7272 [==============================] - 1s 128us/step - loss: 0.0176 - acc: 0.9941 - val_loss: 0.1629 - val_acc: 0.9586\n",
      "Epoch 32/50\n",
      "7272/7272 [==============================] - 1s 173us/step - loss: 0.0111 - acc: 0.9960 - val_loss: 0.1509 - val_acc: 0.9628\n",
      "Epoch 33/50\n",
      "7272/7272 [==============================] - 1s 174us/step - loss: 0.0024 - acc: 0.9996 - val_loss: 0.1300 - val_acc: 0.9676\n",
      "Epoch 34/50\n",
      "7272/7272 [==============================] - 1s 190us/step - loss: 7.2297e-04 - acc: 1.0000 - val_loss: 0.1320 - val_acc: 0.9698\n",
      "Epoch 35/50\n",
      "7272/7272 [==============================] - 1s 149us/step - loss: 4.4347e-04 - acc: 1.0000 - val_loss: 0.1324 - val_acc: 0.9698\n",
      "Epoch 36/50\n",
      "7272/7272 [==============================] - 2s 211us/step - loss: 3.4564e-04 - acc: 1.0000 - val_loss: 0.1359 - val_acc: 0.9698\n",
      "Epoch 37/50\n",
      "7272/7272 [==============================] - 1s 188us/step - loss: 2.9269e-04 - acc: 1.0000 - val_loss: 0.1377 - val_acc: 0.9698\n",
      "Epoch 38/50\n",
      "7272/7272 [==============================] - 2s 208us/step - loss: 2.5320e-04 - acc: 1.0000 - val_loss: 0.1393 - val_acc: 0.9695\n",
      "Epoch 39/50\n",
      "7272/7272 [==============================] - 1s 172us/step - loss: 2.2224e-04 - acc: 1.0000 - val_loss: 0.1415 - val_acc: 0.9698\n",
      "Epoch 40/50\n",
      "7272/7272 [==============================] - 1s 175us/step - loss: 1.9523e-04 - acc: 1.0000 - val_loss: 0.1436 - val_acc: 0.9708\n",
      "Epoch 41/50\n",
      "7272/7272 [==============================] - 1s 169us/step - loss: 1.7255e-04 - acc: 1.0000 - val_loss: 0.1451 - val_acc: 0.9698\n",
      "Epoch 42/50\n",
      "7272/7272 [==============================] - 1s 170us/step - loss: 1.5328e-04 - acc: 1.0000 - val_loss: 0.1468 - val_acc: 0.9698\n",
      "Epoch 43/50\n",
      "7272/7272 [==============================] - 1s 170us/step - loss: 1.3657e-04 - acc: 1.0000 - val_loss: 0.1484 - val_acc: 0.9698\n",
      "Epoch 44/50\n",
      "7272/7272 [==============================] - 1s 186us/step - loss: 1.2197e-04 - acc: 1.0000 - val_loss: 0.1501 - val_acc: 0.9692\n",
      "Epoch 45/50\n",
      "7272/7272 [==============================] - 1s 155us/step - loss: 1.0894e-04 - acc: 1.0000 - val_loss: 0.1517 - val_acc: 0.9689\n",
      "Epoch 46/50\n",
      "7272/7272 [==============================] - 1s 129us/step - loss: 9.7648e-05 - acc: 1.0000 - val_loss: 0.1537 - val_acc: 0.9695\n",
      "Epoch 47/50\n",
      "7272/7272 [==============================] - 1s 145us/step - loss: 8.7472e-05 - acc: 1.0000 - val_loss: 0.1554 - val_acc: 0.9692\n",
      "Epoch 48/50\n",
      "7272/7272 [==============================] - 1s 180us/step - loss: 7.8406e-05 - acc: 1.0000 - val_loss: 0.1571 - val_acc: 0.9692\n",
      "Epoch 49/50\n",
      "7272/7272 [==============================] - 1s 139us/step - loss: 7.0255e-05 - acc: 1.0000 - val_loss: 0.1590 - val_acc: 0.9692\n",
      "Epoch 50/50\n",
      "7272/7272 [==============================] - 1s 134us/step - loss: 6.2930e-05 - acc: 1.0000 - val_loss: 0.1611 - val_acc: 0.9698\n"
     ]
    }
   ],
   "source": [
    "history = model.fit(train, y_train, epochs=50,validation_data=(test,y_test))"
   ]
  },
  {
   "cell_type": "code",
   "execution_count": 36,
   "metadata": {
    "collapsed": true
   },
   "outputs": [],
   "source": [
    "filename = 'breast_cancer.h5'"
   ]
  },
  {
   "cell_type": "code",
   "execution_count": 39,
   "metadata": {
    "collapsed": true
   },
   "outputs": [],
   "source": [
    "os.chdir('..')"
   ]
  },
  {
   "cell_type": "code",
   "execution_count": 40,
   "metadata": {
    "collapsed": true
   },
   "outputs": [],
   "source": [
    "model.save(filename)"
   ]
  },
  {
   "cell_type": "code",
   "execution_count": 41,
   "metadata": {
    "collapsed": true
   },
   "outputs": [],
   "source": [
    "history_dict = history.history\n",
    "history_dict.keys()\n",
    "import matplotlib.pyplot as plt\n",
    "%matplotlib inline\n",
    "loss_values = history_dict['loss']\n",
    "val_loss_values = history_dict['val_loss']\n",
    "epochs = range(1, len(loss_values) + 1)"
   ]
  },
  {
   "cell_type": "code",
   "execution_count": 42,
   "metadata": {},
   "outputs": [
    {
     "data": {
      "image/png": "[encoded data removed]",
      "text/plain": [
       "<matplotlib.figure.Figure at 0x7fdb7c0419e8>"
      ]
     },
     "metadata": {},
     "output_type": "display_data"
    }
   ],
   "source": [
    "plt.plot(epochs, val_loss_values)\n",
    "plt.xlabel('Epochs')\n",
    "plt.ylabel('Loss')\n",
    "\n",
    "plt.show()"
   ]
  },
  {
   "cell_type": "code",
   "execution_count": 43,
   "metadata": {},
   "outputs": [
    {
     "data": {
      "image/png": "[encoded data removed]",
      "text/plain": [
       "<matplotlib.figure.Figure at 0x7fdb7c09b160>"
      ]
     },
     "metadata": {},
     "output_type": "display_data"
    }
   ],
   "source": [
    "plt.plot(epochs, loss_values)\n",
    "plt.xlabel('Epochs')\n",
    "plt.ylabel('Loss')\n",
    "\n",
    "plt.show()"
   ]
  },
  {
   "cell_type": "code",
   "execution_count": 44,
   "metadata": {},
   "outputs": [
    {
     "data": {
      "image/png": "[encoded data removed]",
      "text/plain": [
       "<matplotlib.figure.Figure at 0x7fdb797c1f28>"
      ]
     },
     "metadata": {},
     "output_type": "display_data"
    }
   ],
   "source": [
    "acc_values = history_dict['acc']\n",
    "val_acc_values = history_dict['val_acc']\n",
    "plt.plot(epochs, val_acc_values)\n",
    "plt.xlabel('Epochs')\n",
    "plt.ylabel('Accuracy')\n",
    "\n",
    "plt.show()"
   ]
  },
  {
   "cell_type": "code",
   "execution_count": 58,
   "metadata": {
    "collapsed": true
   },
   "outputs": [],
   "source": [
    "arr = image_array('test2.png' , 224)\n",
    "arr = np.array(arr , dtype = 'float')"
   ]
  },
  {
   "cell_type": "code",
   "execution_count": 59,
   "metadata": {
    "collapsed": true
   },
   "outputs": [],
   "source": [
    "y = preprocess_input(arr)\n",
    "y = np.reshape(y, (1,224,224,3))"
   ]
  },
  {
   "cell_type": "code",
   "execution_count": 60,
   "metadata": {
    "collapsed": true
   },
   "outputs": [],
   "source": [
    "model1 = ResNet50(weights='imagenet', include_top = False)"
   ]
  },
  {
   "cell_type": "code",
   "execution_count": 61,
   "metadata": {
    "collapsed": true
   },
   "outputs": [],
   "source": [
    "x = model1.predict(y)"
   ]
  },
  {
   "cell_type": "code",
   "execution_count": 62,
   "metadata": {
    "collapsed": true
   },
   "outputs": [],
   "source": [
    "train = x.reshape(x.shape[0] , -1)"
   ]
  },
  {
   "cell_type": "code",
   "execution_count": 63,
   "metadata": {
    "collapsed": true
   },
   "outputs": [],
   "source": [
    "y = model.predict(train)"
   ]
  },
  {
   "cell_type": "code",
   "execution_count": 64,
   "metadata": {},
   "outputs": [
    {
     "name": "stdout",
     "output_type": "stream",
     "text": [
      "[[4.970112e-05 9.999503e-01]]\n"
     ]
    }
   ],
   "source": [
    "print(y)"
   ]
  },
  {
   "cell_type": "code",
   "execution_count": null,
   "metadata": {
    "collapsed": true
   },
   "outputs": [],
   "source": []
  }
 ],
 "metadata": {
  "kernelspec": {
   "display_name": "Python 3",
   "language": "python",
   "name": "python3"
  },
  "language_info": {
   "codemirror_mode": {
    "name": "ipython",
    "version": 3
   },
   "file_extension": ".py",
   "mimetype": "text/x-python",
   "name": "python",
   "nbconvert_exporter": "python",
   "pygments_lexer": "ipython3",
   "version": "3.6.3"
  }
 },
 "nbformat": 4,
 "nbformat_minor": 2
}
