{
 "cells": [
  {
   "cell_type": "code",
   "execution_count": 1,
   "metadata": {
    "collapsed": true
   },
   "outputs": [],
   "source": [
    "import glob, os\n",
    "import cv2\n",
    "import numpy as np"
   ]
  },
  {
   "cell_type": "code",
   "execution_count": 2,
   "metadata": {
    "collapsed": true
   },
   "outputs": [],
   "source": [
    "def image_array(filename,size):\n",
    "    array = cv2.imread(filename)\n",
    "    array = cv2.resize(array, (size, size)) \n",
    "    return array"
   ]
  },
  {
   "cell_type": "code",
   "execution_count": 3,
   "metadata": {
    "collapsed": true
   },
   "outputs": [],
   "source": [
    "os.chdir('benign')"
   ]
  },
  {
   "cell_type": "code",
   "execution_count": 4,
   "metadata": {
    "collapsed": true
   },
   "outputs": [],
   "source": [
    "benign = []\n",
    "for file in glob.glob(\"*.png\"):\n",
    "    array = image_array(file, 229)\n",
    "    benign.append(array)"
   ]
  },
  {
   "cell_type": "code",
   "execution_count": 5,
   "metadata": {
    "collapsed": true
   },
   "outputs": [],
   "source": [
    "os.chdir('..')\n",
    "os.chdir('benign_augmented')"
   ]
  },
  {
   "cell_type": "code",
   "execution_count": 6,
   "metadata": {
    "collapsed": true
   },
   "outputs": [],
   "source": [
    "for file in glob.glob(\"*.png\"):\n",
    "    array = image_array(file, 229)\n",
    "    benign.append(array)"
   ]
  },
  {
   "cell_type": "code",
   "execution_count": 7,
   "metadata": {},
   "outputs": [
    {
     "data": {
      "text/plain": [
       "(4959, 229, 229, 3)"
      ]
     },
     "execution_count": 7,
     "metadata": {},
     "output_type": "execute_result"
    }
   ],
   "source": [
    "benign = np.asarray(benign)\n",
    "benign.shape"
   ]
  },
  {
   "cell_type": "code",
   "execution_count": 8,
   "metadata": {
    "collapsed": true
   },
   "outputs": [],
   "source": [
    "os.chdir('..')\n",
    "os.chdir('malignant')"
   ]
  },
  {
   "cell_type": "code",
   "execution_count": 9,
   "metadata": {
    "collapsed": true
   },
   "outputs": [],
   "source": [
    "malignant = []\n",
    "for file in glob.glob(\"*.png\"):\n",
    "    array = image_array(file, 229)\n",
    "    malignant.append(array)"
   ]
  },
  {
   "cell_type": "code",
   "execution_count": 10,
   "metadata": {},
   "outputs": [
    {
     "data": {
      "text/plain": [
       "(5428, 229, 229, 3)"
      ]
     },
     "execution_count": 10,
     "metadata": {},
     "output_type": "execute_result"
    }
   ],
   "source": [
    "malignant = np.asarray(malignant)\n",
    "malignant.shape"
   ]
  },
  {
   "cell_type": "code",
   "execution_count": 11,
   "metadata": {},
   "outputs": [
    {
     "data": {
      "text/plain": [
       "(10387, 229, 229, 3)"
      ]
     },
     "execution_count": 11,
     "metadata": {},
     "output_type": "execute_result"
    }
   ],
   "source": [
    "data = np.concatenate((benign, malignant), axis = 0)\n",
    "data.shape"
   ]
  },
  {
   "cell_type": "code",
   "execution_count": 12,
   "metadata": {
    "collapsed": true
   },
   "outputs": [],
   "source": [
    "label = []\n",
    "for i in range(4959):\n",
    "    label.append('benign')\n",
    "    \n",
    "for i in range(5428):\n",
    "    label.append('malignant')"
   ]
  },
  {
   "cell_type": "code",
   "execution_count": 13,
   "metadata": {},
   "outputs": [
    {
     "data": {
      "text/plain": [
       "(10387,)"
      ]
     },
     "execution_count": 13,
     "metadata": {},
     "output_type": "execute_result"
    }
   ],
   "source": [
    "y = np.asarray(label)\n",
    "y.shape"
   ]
  },
  {
   "cell_type": "code",
   "execution_count": 14,
   "metadata": {
    "collapsed": true
   },
   "outputs": [],
   "source": [
    "def one_hot_encoding(array):\n",
    "    df = pd.DataFrame(array, index = None)\n",
    "    data = pd.get_dummies(df)\n",
    "    data = np.asarray(data)\n",
    "    return data"
   ]
  },
  {
   "cell_type": "code",
   "execution_count": 15,
   "metadata": {},
   "outputs": [
    {
     "data": {
      "text/plain": [
       "(10387, 2)"
      ]
     },
     "execution_count": 15,
     "metadata": {},
     "output_type": "execute_result"
    }
   ],
   "source": [
    "import pandas as pd\n",
    "label = one_hot_encoding(y)\n",
    "label.shape"
   ]
  },
  {
   "cell_type": "code",
   "execution_count": 16,
   "metadata": {},
   "outputs": [
    {
     "name": "stderr",
     "output_type": "stream",
     "text": [
      "/home/itachi/anaconda3/lib/python3.6/site-packages/sklearn/cross_validation.py:41: DeprecationWarning: This module was deprecated in version 0.18 in favor of the model_selection module into which all the refactored classes and functions are moved. Also note that the interface of the new CV iterators are different from that of this module. This module will be removed in 0.20.\n",
      "  \"This module will be removed in 0.20.\", DeprecationWarning)\n"
     ]
    }
   ],
   "source": [
    "import sklearn\n",
    "from sklearn import cross_validation"
   ]
  },
  {
   "cell_type": "code",
   "execution_count": 17,
   "metadata": {},
   "outputs": [],
   "source": [
    "x_train, x_test, y_train, y_test = sklearn.cross_validation.train_test_split(data, label , test_size = 0.1 , random_state = 100)"
   ]
  },
  {
   "cell_type": "code",
   "execution_count": 18,
   "metadata": {},
   "outputs": [
    {
     "data": {
      "text/plain": [
       "(9348, 229, 229, 3)"
      ]
     },
     "execution_count": 18,
     "metadata": {},
     "output_type": "execute_result"
    }
   ],
   "source": [
    "x_train.shape"
   ]
  },
  {
   "cell_type": "code",
   "execution_count": 19,
   "metadata": {},
   "outputs": [
    {
     "data": {
      "text/plain": [
       "(1039, 229, 229, 3)"
      ]
     },
     "execution_count": 19,
     "metadata": {},
     "output_type": "execute_result"
    }
   ],
   "source": [
    "x_test.shape"
   ]
  },
  {
   "cell_type": "code",
   "execution_count": 20,
   "metadata": {},
   "outputs": [
    {
     "name": "stderr",
     "output_type": "stream",
     "text": [
      "Using TensorFlow backend.\n"
     ]
    }
   ],
   "source": [
    "from keras.models import Sequential\n",
    "from scipy.misc import imread\n",
    "get_ipython().magic('matplotlib inline')\n",
    "import matplotlib.pyplot as plt\n",
    "import numpy as np\n",
    "import keras\n",
    "from keras.layers import Dense\n",
    "import pandas as pd\n",
    "\n",
    "from keras.applications.inception_v3 import InceptionV3\n",
    "from keras.preprocessing import image\n",
    "from keras.applications.inception_v3 import preprocess_input\n",
    "import numpy as np\n",
    "from keras.applications.inception_v3 import decode_predictions"
   ]
  },
  {
   "cell_type": "code",
   "execution_count": 21,
   "metadata": {
    "collapsed": true
   },
   "outputs": [],
   "source": [
    "x_train = np.array(x_train , dtype = 'float')\n",
    "x_test = np.array(x_test , dtype = 'float')"
   ]
  },
  {
   "cell_type": "code",
   "execution_count": 22,
   "metadata": {
    "collapsed": true
   },
   "outputs": [],
   "source": [
    "train = preprocess_input(x_train)\n",
    "test = preprocess_input(x_test)"
   ]
  },
  {
   "cell_type": "code",
   "execution_count": 23,
   "metadata": {},
   "outputs": [],
   "source": [
    "model = InceptionV3(weights='imagenet', include_top = False)"
   ]
  },
  {
   "cell_type": "code",
   "execution_count": 24,
   "metadata": {
    "collapsed": true
   },
   "outputs": [],
   "source": [
    "features_train=model.predict(train)\n",
    "features_test=model.predict(test)"
   ]
  },
  {
   "cell_type": "code",
   "execution_count": 25,
   "metadata": {},
   "outputs": [
    {
     "name": "stdout",
     "output_type": "stream",
     "text": [
      "51200\n"
     ]
    }
   ],
   "source": [
    "train = features_train.reshape(features_train.shape[0] , -1)\n",
    "test = features_test.reshape(features_test.shape[0] , -1)\n",
    "training_epochs = 20\n",
    "n_dim = train.shape[1]\n",
    "print(n_dim)\n",
    "n_class = 2"
   ]
  },
  {
   "cell_type": "code",
   "execution_count": 26,
   "metadata": {
    "collapsed": true
   },
   "outputs": [],
   "source": [
    "from keras.activations import softmax\n",
    "import types\n",
    "import tempfile\n",
    "import keras.models\n",
    "from keras.layers import Activation, Dense"
   ]
  },
  {
   "cell_type": "code",
   "execution_count": 27,
   "metadata": {
    "collapsed": true
   },
   "outputs": [],
   "source": [
    "model=Sequential()\n",
    "\n",
    "model.add(Dense(100, input_dim= n_dim, activation='tanh',kernel_initializer='uniform'))\n",
    "keras.layers.core.Dropout(0.3, noise_shape=None, seed=None)\n",
    "\n",
    "model.add(Dense(50,input_dim=1000,activation='sigmoid'))\n",
    "keras.layers.core.Dropout(0.4, noise_shape=None, seed=None)\n",
    "\n",
    "model.add(Dense(15,input_dim=500,activation='sigmoid'))\n",
    "keras.layers.core.Dropout(0.2, noise_shape=None, seed=None)\n",
    "\n",
    "model.add(Dense(units=n_class))\n",
    "model.add(Activation('softmax'))\n",
    "\n",
    "\n",
    "\n",
    "model.compile(loss='categorical_crossentropy', optimizer=\"adam\", metrics=['accuracy'])"
   ]
  },
  {
   "cell_type": "code",
   "execution_count": 28,
   "metadata": {},
   "outputs": [
    {
     "name": "stdout",
     "output_type": "stream",
     "text": [
      "Train on 9348 samples, validate on 1039 samples\n",
      "Epoch 1/50\n",
      "9348/9348 [==============================] - 23s 3ms/step - loss: 0.5005 - acc: 0.7828 - val_loss: 0.4828 - val_acc: 0.6910\n",
      "Epoch 2/50\n",
      "9348/9348 [==============================] - 23s 2ms/step - loss: 0.4671 - acc: 0.7882 - val_loss: 0.4496 - val_acc: 0.7988\n",
      "Epoch 3/50\n",
      "9348/9348 [==============================] - 22s 2ms/step - loss: 0.4730 - acc: 0.7908 - val_loss: 0.4599 - val_acc: 0.7228\n",
      "Epoch 4/50\n",
      "9348/9348 [==============================] - 22s 2ms/step - loss: 0.4505 - acc: 0.7936 - val_loss: 0.4710 - val_acc: 0.8123\n",
      "Epoch 5/50\n",
      "9348/9348 [==============================] - 22s 2ms/step - loss: 0.4578 - acc: 0.7835 - val_loss: 0.4225 - val_acc: 0.8056\n",
      "Epoch 6/50\n",
      "9348/9348 [==============================] - 22s 2ms/step - loss: 0.4193 - acc: 0.8098 - val_loss: 0.4923 - val_acc: 0.6930\n",
      "Epoch 7/50\n",
      "9348/9348 [==============================] - 22s 2ms/step - loss: 0.4292 - acc: 0.8051 - val_loss: 0.4421 - val_acc: 0.8133\n",
      "Epoch 8/50\n",
      "9348/9348 [==============================] - 22s 2ms/step - loss: 0.4068 - acc: 0.8261 - val_loss: 0.4247 - val_acc: 0.8219\n",
      "Epoch 9/50\n",
      "9348/9348 [==============================] - 22s 2ms/step - loss: 0.4048 - acc: 0.8304 - val_loss: 0.4294 - val_acc: 0.8229\n",
      "Epoch 10/50\n",
      "9348/9348 [==============================] - 22s 2ms/step - loss: 0.3888 - acc: 0.8358 - val_loss: 0.4051 - val_acc: 0.8268\n",
      "Epoch 11/50\n",
      "9348/9348 [==============================] - 22s 2ms/step - loss: 0.4331 - acc: 0.7961 - val_loss: 0.4241 - val_acc: 0.8287\n",
      "Epoch 12/50\n",
      "9348/9348 [==============================] - 22s 2ms/step - loss: 0.4390 - acc: 0.7856 - val_loss: 0.4081 - val_acc: 0.8200\n",
      "Epoch 13/50\n",
      "9348/9348 [==============================] - 22s 2ms/step - loss: 0.4050 - acc: 0.8373 - val_loss: 0.4117 - val_acc: 0.8431\n",
      "Epoch 14/50\n",
      "9348/9348 [==============================] - 22s 2ms/step - loss: 0.3845 - acc: 0.8467 - val_loss: 0.3896 - val_acc: 0.8354\n",
      "Epoch 15/50\n",
      "9348/9348 [==============================] - 22s 2ms/step - loss: 0.3754 - acc: 0.8470 - val_loss: 0.4489 - val_acc: 0.8181\n",
      "Epoch 16/50\n",
      "9348/9348 [==============================] - 22s 2ms/step - loss: 0.3893 - acc: 0.8398 - val_loss: 0.3918 - val_acc: 0.8470\n",
      "Epoch 17/50\n",
      "9348/9348 [==============================] - 22s 2ms/step - loss: 0.3758 - acc: 0.8416 - val_loss: 0.4413 - val_acc: 0.8191\n",
      "Epoch 18/50\n",
      "9348/9348 [==============================] - 22s 2ms/step - loss: 0.4040 - acc: 0.8289 - val_loss: 0.4208 - val_acc: 0.7729\n",
      "Epoch 19/50\n",
      "9348/9348 [==============================] - 23s 2ms/step - loss: 0.3733 - acc: 0.8524 - val_loss: 0.3795 - val_acc: 0.8268\n",
      "Epoch 20/50\n",
      "9348/9348 [==============================] - 23s 2ms/step - loss: 0.3813 - acc: 0.8461 - val_loss: 0.3945 - val_acc: 0.8460\n",
      "Epoch 21/50\n",
      "9348/9348 [==============================] - 23s 2ms/step - loss: 0.3833 - acc: 0.8445 - val_loss: 0.3916 - val_acc: 0.8229\n",
      "Epoch 22/50\n",
      "9348/9348 [==============================] - 22s 2ms/step - loss: 0.3920 - acc: 0.8236 - val_loss: 0.4211 - val_acc: 0.8133\n",
      "Epoch 23/50\n",
      "9348/9348 [==============================] - 22s 2ms/step - loss: 0.3783 - acc: 0.8386 - val_loss: 0.4138 - val_acc: 0.8518\n",
      "Epoch 24/50\n",
      "9348/9348 [==============================] - 22s 2ms/step - loss: 0.3716 - acc: 0.8533 - val_loss: 0.3819 - val_acc: 0.8489\n",
      "Epoch 25/50\n",
      "9348/9348 [==============================] - 22s 2ms/step - loss: 0.3786 - acc: 0.8458 - val_loss: 0.3976 - val_acc: 0.8287\n",
      "Epoch 26/50\n",
      "9348/9348 [==============================] - 22s 2ms/step - loss: 0.3590 - acc: 0.8533 - val_loss: 0.3918 - val_acc: 0.8470\n",
      "Epoch 27/50\n",
      "9348/9348 [==============================] - 22s 2ms/step - loss: 0.3675 - acc: 0.8435 - val_loss: 0.4381 - val_acc: 0.7950\n",
      "Epoch 28/50\n",
      "9348/9348 [==============================] - 22s 2ms/step - loss: 0.3749 - acc: 0.8353 - val_loss: 0.4062 - val_acc: 0.8075\n",
      "Epoch 29/50\n",
      "9348/9348 [==============================] - 24s 3ms/step - loss: 0.3663 - acc: 0.8432 - val_loss: 0.3808 - val_acc: 0.8412\n",
      "Epoch 30/50\n",
      "9348/9348 [==============================] - 22s 2ms/step - loss: 0.3635 - acc: 0.8440 - val_loss: 0.3998 - val_acc: 0.8431\n",
      "Epoch 31/50\n",
      "9348/9348 [==============================] - 22s 2ms/step - loss: 0.3651 - acc: 0.8400 - val_loss: 0.3865 - val_acc: 0.8364\n",
      "Epoch 32/50\n",
      "9348/9348 [==============================] - 22s 2ms/step - loss: 0.3573 - acc: 0.8593 - val_loss: 0.4367 - val_acc: 0.8277\n",
      "Epoch 33/50\n",
      "9348/9348 [==============================] - 22s 2ms/step - loss: 0.3621 - acc: 0.8506 - val_loss: 0.3999 - val_acc: 0.8296\n",
      "Epoch 34/50\n",
      "9348/9348 [==============================] - 22s 2ms/step - loss: 0.3811 - acc: 0.8361 - val_loss: 0.4465 - val_acc: 0.7084\n",
      "Epoch 35/50\n",
      "9348/9348 [==============================] - 22s 2ms/step - loss: 0.3634 - acc: 0.8401 - val_loss: 0.3726 - val_acc: 0.8527\n",
      "Epoch 36/50\n",
      "9348/9348 [==============================] - 23s 2ms/step - loss: 0.3656 - acc: 0.8515 - val_loss: 0.4223 - val_acc: 0.8364\n",
      "Epoch 37/50\n",
      "9348/9348 [==============================] - 22s 2ms/step - loss: 0.3434 - acc: 0.8633 - val_loss: 0.3907 - val_acc: 0.8499\n",
      "Epoch 38/50\n",
      "9348/9348 [==============================] - 23s 2ms/step - loss: 0.3396 - acc: 0.8614 - val_loss: 0.3641 - val_acc: 0.8566\n",
      "Epoch 39/50\n",
      "9348/9348 [==============================] - 22s 2ms/step - loss: 0.3734 - acc: 0.8313 - val_loss: 0.4758 - val_acc: 0.6776\n",
      "Epoch 40/50\n",
      "9348/9348 [==============================] - 22s 2ms/step - loss: 0.3631 - acc: 0.8425 - val_loss: 0.3706 - val_acc: 0.8604\n",
      "Epoch 41/50\n",
      "9348/9348 [==============================] - 22s 2ms/step - loss: 0.3382 - acc: 0.8616 - val_loss: 0.3808 - val_acc: 0.8460\n",
      "Epoch 42/50\n",
      "9348/9348 [==============================] - 22s 2ms/step - loss: 0.3223 - acc: 0.8651 - val_loss: 0.3729 - val_acc: 0.8624\n",
      "Epoch 43/50\n",
      "9348/9348 [==============================] - 22s 2ms/step - loss: 0.3277 - acc: 0.8652 - val_loss: 0.3989 - val_acc: 0.8489\n",
      "Epoch 44/50\n",
      "9348/9348 [==============================] - 22s 2ms/step - loss: 0.3406 - acc: 0.8490 - val_loss: 0.3698 - val_acc: 0.8518\n",
      "Epoch 45/50\n",
      "9348/9348 [==============================] - 22s 2ms/step - loss: 0.3262 - acc: 0.8675 - val_loss: 0.3733 - val_acc: 0.8566\n",
      "Epoch 46/50\n",
      "9348/9348 [==============================] - 22s 2ms/step - loss: 0.3300 - acc: 0.8667 - val_loss: 0.3765 - val_acc: 0.8248\n",
      "Epoch 47/50\n",
      "9348/9348 [==============================] - 22s 2ms/step - loss: 0.3690 - acc: 0.8270 - val_loss: 0.3730 - val_acc: 0.8537\n",
      "Epoch 48/50\n",
      "9348/9348 [==============================] - 22s 2ms/step - loss: 0.3268 - acc: 0.8666 - val_loss: 0.3957 - val_acc: 0.8277\n",
      "Epoch 49/50\n",
      "9348/9348 [==============================] - 22s 2ms/step - loss: 0.3323 - acc: 0.8666 - val_loss: 0.3648 - val_acc: 0.8450\n",
      "Epoch 50/50\n",
      "9348/9348 [==============================] - 22s 2ms/step - loss: 0.3340 - acc: 0.8687 - val_loss: 0.3756 - val_acc: 0.8566\n"
     ]
    }
   ],
   "source": [
    "history = model.fit(train, y_train, epochs=50,validation_data=(test,y_test))"
   ]
  },
  {
   "cell_type": "code",
   "execution_count": 29,
   "metadata": {
    "collapsed": true
   },
   "outputs": [],
   "source": [
    "filename = 'Inception.h5'"
   ]
  },
  {
   "cell_type": "code",
   "execution_count": 30,
   "metadata": {
    "collapsed": true
   },
   "outputs": [],
   "source": [
    "os.chdir('..')"
   ]
  },
  {
   "cell_type": "code",
   "execution_count": 31,
   "metadata": {
    "collapsed": true
   },
   "outputs": [],
   "source": [
    "model.save(filename)"
   ]
  },
  {
   "cell_type": "code",
   "execution_count": 32,
   "metadata": {
    "collapsed": true
   },
   "outputs": [],
   "source": [
    "history_dict = history.history\n",
    "history_dict.keys()\n",
    "import matplotlib.pyplot as plt\n",
    "%matplotlib inline\n",
    "loss_values = history_dict['loss']\n",
    "val_loss_values = history_dict['val_loss']\n",
    "epochs = range(1, len(loss_values) + 1)"
   ]
  },
  {
   "cell_type": "code",
   "execution_count": 33,
   "metadata": {},
   "outputs": [
    {
     "data": {
      "image/png": "[encoded data removed]",
      "text/plain": [
       "<matplotlib.figure.Figure at 0x7f458e851b00>"
      ]
     },
     "metadata": {},
     "output_type": "display_data"
    }
   ],
   "source": [
    "plt.plot(epochs, val_loss_values)\n",
    "plt.xlabel('Epochs')\n",
    "plt.ylabel('Loss')\n",
    "\n",
    "plt.show()"
   ]
  },
  {
   "cell_type": "code",
   "execution_count": 34,
   "metadata": {},
   "outputs": [
    {
     "data": {
      "image/png": "[encoded data removed]",
      "text/plain": [
       "<matplotlib.figure.Figure at 0x7f458e881be0>"
      ]
     },
     "metadata": {},
     "output_type": "display_data"
    }
   ],
   "source": [
    "plt.plot(epochs, loss_values)\n",
    "plt.xlabel('Epochs')\n",
    "plt.ylabel('Loss')\n",
    "\n",
    "plt.show()"
   ]
  },
  {
   "cell_type": "code",
   "execution_count": 35,
   "metadata": {},
   "outputs": [
    {
     "data": {
      "image/png": "[encoded data removed]",
      "text/plain": [
       "<matplotlib.figure.Figure at 0x7f458e913b70>"
      ]
     },
     "metadata": {},
     "output_type": "display_data"
    }
   ],
   "source": [
    "acc_values = history_dict['acc']\n",
    "val_acc_values = history_dict['val_acc']\n",
    "plt.plot(epochs, val_acc_values)\n",
    "plt.xlabel('Epochs')\n",
    "plt.ylabel('Accuracy')\n",
    "\n",
    "plt.show()"
   ]
  },
  {
   "cell_type": "code",
   "execution_count": 36,
   "metadata": {},
   "outputs": [
    {
     "ename": "error",
     "evalue": "/home/travis/miniconda/conda-bld/conda_1486587069159/work/opencv-3.1.0/modules/imgproc/src/imgwarp.cpp:3229: error: (-215) ssize.area() > 0 in function resize\n",
     "output_type": "error",
     "traceback": [
      "\u001b[0;31m---------------------------------------------------------------------------\u001b[0m",
      "\u001b[0;31merror\u001b[0m                                     Traceback (most recent call last)",
      "\u001b[0;32m<ipython-input-36-33640f1d76eb>\u001b[0m in \u001b[0;36m<module>\u001b[0;34m()\u001b[0m\n\u001b[0;32m----> 1\u001b[0;31m \u001b[0marr\u001b[0m \u001b[0;34m=\u001b[0m \u001b[0mimage_array\u001b[0m\u001b[0;34m(\u001b[0m\u001b[0;34m'test2.png'\u001b[0m \u001b[0;34m,\u001b[0m \u001b[0;36m224\u001b[0m\u001b[0;34m)\u001b[0m\u001b[0;34m\u001b[0m\u001b[0m\n\u001b[0m\u001b[1;32m      2\u001b[0m \u001b[0marr\u001b[0m \u001b[0;34m=\u001b[0m \u001b[0mnp\u001b[0m\u001b[0;34m.\u001b[0m\u001b[0marray\u001b[0m\u001b[0;34m(\u001b[0m\u001b[0marr\u001b[0m \u001b[0;34m,\u001b[0m \u001b[0mdtype\u001b[0m \u001b[0;34m=\u001b[0m \u001b[0;34m'float'\u001b[0m\u001b[0;34m)\u001b[0m\u001b[0;34m\u001b[0m\u001b[0m\n",
      "\u001b[0;32m<ipython-input-2-c9e9b0c00f11>\u001b[0m in \u001b[0;36mimage_array\u001b[0;34m(filename, size)\u001b[0m\n\u001b[1;32m      1\u001b[0m \u001b[0;32mdef\u001b[0m \u001b[0mimage_array\u001b[0m\u001b[0;34m(\u001b[0m\u001b[0mfilename\u001b[0m\u001b[0;34m,\u001b[0m\u001b[0msize\u001b[0m\u001b[0;34m)\u001b[0m\u001b[0;34m:\u001b[0m\u001b[0;34m\u001b[0m\u001b[0m\n\u001b[1;32m      2\u001b[0m     \u001b[0marray\u001b[0m \u001b[0;34m=\u001b[0m \u001b[0mcv2\u001b[0m\u001b[0;34m.\u001b[0m\u001b[0mimread\u001b[0m\u001b[0;34m(\u001b[0m\u001b[0mfilename\u001b[0m\u001b[0;34m)\u001b[0m\u001b[0;34m\u001b[0m\u001b[0m\n\u001b[0;32m----> 3\u001b[0;31m     \u001b[0marray\u001b[0m \u001b[0;34m=\u001b[0m \u001b[0mcv2\u001b[0m\u001b[0;34m.\u001b[0m\u001b[0mresize\u001b[0m\u001b[0;34m(\u001b[0m\u001b[0marray\u001b[0m\u001b[0;34m,\u001b[0m \u001b[0;34m(\u001b[0m\u001b[0msize\u001b[0m\u001b[0;34m,\u001b[0m \u001b[0msize\u001b[0m\u001b[0;34m)\u001b[0m\u001b[0;34m)\u001b[0m\u001b[0;34m\u001b[0m\u001b[0m\n\u001b[0m\u001b[1;32m      4\u001b[0m     \u001b[0;32mreturn\u001b[0m \u001b[0marray\u001b[0m\u001b[0;34m\u001b[0m\u001b[0m\n",
      "\u001b[0;31merror\u001b[0m: /home/travis/miniconda/conda-bld/conda_1486587069159/work/opencv-3.1.0/modules/imgproc/src/imgwarp.cpp:3229: error: (-215) ssize.area() > 0 in function resize\n"
     ]
    }
   ],
   "source": [
    "arr = image_array('test2.png' , 224)\n",
    "arr = np.array(arr , dtype = 'float')"
   ]
  },
  {
   "cell_type": "code",
   "execution_count": null,
   "metadata": {
    "collapsed": true
   },
   "outputs": [],
   "source": [
    "y = preprocess_input(arr)\n",
    "y = np.reshape(y, (1,224,224,3))"
   ]
  },
  {
   "cell_type": "code",
   "execution_count": null,
   "metadata": {
    "collapsed": true
   },
   "outputs": [],
   "source": [
    "model1 = ResNet50(weights='imagenet', include_top = False)"
   ]
  },
  {
   "cell_type": "code",
   "execution_count": null,
   "metadata": {
    "collapsed": true
   },
   "outputs": [],
   "source": [
    "x = model1.predict(y)"
   ]
  },
  {
   "cell_type": "code",
   "execution_count": null,
   "metadata": {
    "collapsed": true
   },
   "outputs": [],
   "source": [
    "train = x.reshape(x.shape[0] , -1)"
   ]
  },
  {
   "cell_type": "code",
   "execution_count": null,
   "metadata": {
    "collapsed": true
   },
   "outputs": [],
   "source": [
    "y = model.predict(train)"
   ]
  },
  {
   "cell_type": "code",
   "execution_count": null,
   "metadata": {},
   "outputs": [],
   "source": [
    "print(y)"
   ]
  },
  {
   "cell_type": "code",
   "execution_count": null,
   "metadata": {
    "collapsed": true
   },
   "outputs": [],
   "source": []
  }
 ],
 "metadata": {
  "kernelspec": {
   "display_name": "Python 3",
   "language": "python",
   "name": "python3"
  },
  "language_info": {
   "codemirror_mode": {
    "name": "ipython",
    "version": 3
   },
   "file_extension": ".py",
   "mimetype": "text/x-python",
   "name": "python",
   "nbconvert_exporter": "python",
   "pygments_lexer": "ipython3",
   "version": "3.6.3"
  }
 },
 "nbformat": 4,
 "nbformat_minor": 2
}
