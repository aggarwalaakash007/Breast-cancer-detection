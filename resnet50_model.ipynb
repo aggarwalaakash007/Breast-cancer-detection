{
 "cells": [
  {
   "cell_type": "code",
   "execution_count": 1,
   "metadata": {
    "collapsed": true
   },
   "outputs": [],
   "source": [
    "import glob, os\n",
    "import cv2\n",
    "import numpy as np"
   ]
  },
  {
   "cell_type": "code",
   "execution_count": 2,
   "metadata": {
    "collapsed": true
   },
   "outputs": [],
   "source": [
    "def image_array(filename,size):\n",
    "    array = cv2.imread(filename)\n",
    "    array = cv2.resize(array, (size, size)) \n",
    "    return array"
   ]
  },
  {
   "cell_type": "code",
   "execution_count": 3,
   "metadata": {
    "collapsed": true
   },
   "outputs": [],
   "source": [
    "os.chdir('benign')"
   ]
  },
  {
   "cell_type": "code",
   "execution_count": 4,
   "metadata": {
    "collapsed": true
   },
   "outputs": [],
   "source": [
    "benign = []\n",
    "for file in glob.glob(\"*.png\"):\n",
    "    array = image_array(file, 224)\n",
    "    benign.append(array)"
   ]
  },
  {
   "cell_type": "code",
   "execution_count": 5,
   "metadata": {
    "collapsed": true
   },
   "outputs": [],
   "source": [
    "os.chdir('..')\n",
    "os.chdir('benign_augmented')"
   ]
  },
  {
   "cell_type": "code",
   "execution_count": 6,
   "metadata": {
    "collapsed": true
   },
   "outputs": [],
   "source": [
    "for file in glob.glob(\"*.png\"):\n",
    "    array = image_array(file, 224)\n",
    "    benign.append(array)"
   ]
  },
  {
   "cell_type": "code",
   "execution_count": 7,
   "metadata": {},
   "outputs": [
    {
     "data": {
      "text/plain": [
       "(4959, 224, 224, 3)"
      ]
     },
     "execution_count": 7,
     "metadata": {},
     "output_type": "execute_result"
    }
   ],
   "source": [
    "benign = np.asarray(benign)\n",
    "benign.shape"
   ]
  },
  {
   "cell_type": "code",
   "execution_count": 8,
   "metadata": {
    "collapsed": true
   },
   "outputs": [],
   "source": [
    "os.chdir('..')\n",
    "os.chdir('malignant')"
   ]
  },
  {
   "cell_type": "code",
   "execution_count": 9,
   "metadata": {
    "collapsed": true
   },
   "outputs": [],
   "source": [
    "malignant = []\n",
    "for file in glob.glob(\"*.png\"):\n",
    "    array = image_array(file, 224)\n",
    "    malignant.append(array)"
   ]
  },
  {
   "cell_type": "code",
   "execution_count": 10,
   "metadata": {},
   "outputs": [
    {
     "data": {
      "text/plain": [
       "(5428, 224, 224, 3)"
      ]
     },
     "execution_count": 10,
     "metadata": {},
     "output_type": "execute_result"
    }
   ],
   "source": [
    "malignant = np.asarray(malignant)\n",
    "malignant.shape"
   ]
  },
  {
   "cell_type": "code",
   "execution_count": 11,
   "metadata": {},
   "outputs": [
    {
     "data": {
      "text/plain": [
       "(10387, 224, 224, 3)"
      ]
     },
     "execution_count": 11,
     "metadata": {},
     "output_type": "execute_result"
    }
   ],
   "source": [
    "data = np.concatenate((benign, malignant), axis = 0)\n",
    "data.shape"
   ]
  },
  {
   "cell_type": "code",
   "execution_count": 12,
   "metadata": {
    "collapsed": true
   },
   "outputs": [],
   "source": [
    "label = []\n",
    "for i in range(4959):\n",
    "    label.append('benign')\n",
    "    \n",
    "for i in range(5428):\n",
    "    label.append('malignant')"
   ]
  },
  {
   "cell_type": "code",
   "execution_count": 13,
   "metadata": {},
   "outputs": [
    {
     "data": {
      "text/plain": [
       "(10387,)"
      ]
     },
     "execution_count": 13,
     "metadata": {},
     "output_type": "execute_result"
    }
   ],
   "source": [
    "y = np.asarray(label)\n",
    "y.shape"
   ]
  },
  {
   "cell_type": "code",
   "execution_count": 14,
   "metadata": {
    "collapsed": true
   },
   "outputs": [],
   "source": [
    "def one_hot_encoding(array):\n",
    "    df = pd.DataFrame(array, index = None)\n",
    "    data = pd.get_dummies(df)\n",
    "    data = np.asarray(data)\n",
    "    return data"
   ]
  },
  {
   "cell_type": "code",
   "execution_count": 15,
   "metadata": {},
   "outputs": [
    {
     "data": {
      "text/plain": [
       "(10387, 2)"
      ]
     },
     "execution_count": 15,
     "metadata": {},
     "output_type": "execute_result"
    }
   ],
   "source": [
    "import pandas as pd\n",
    "label = one_hot_encoding(y)\n",
    "label.shape"
   ]
  },
  {
   "cell_type": "code",
   "execution_count": 16,
   "metadata": {},
   "outputs": [
    {
     "name": "stderr",
     "output_type": "stream",
     "text": [
      "/home/itachi/anaconda3/lib/python3.6/site-packages/sklearn/cross_validation.py:41: DeprecationWarning: This module was deprecated in version 0.18 in favor of the model_selection module into which all the refactored classes and functions are moved. Also note that the interface of the new CV iterators are different from that of this module. This module will be removed in 0.20.\n",
      "  \"This module will be removed in 0.20.\", DeprecationWarning)\n"
     ]
    }
   ],
   "source": [
    "import sklearn\n",
    "from sklearn import cross_validation"
   ]
  },
  {
   "cell_type": "code",
   "execution_count": 17,
   "metadata": {},
   "outputs": [],
   "source": [
    "x_train, x_test, y_train, y_test = sklearn.cross_validation.train_test_split(data, label , test_size = 0.1 , random_state = 42)"
   ]
  },
  {
   "cell_type": "code",
   "execution_count": 18,
   "metadata": {},
   "outputs": [
    {
     "data": {
      "text/plain": [
       "(9348, 224, 224, 3)"
      ]
     },
     "execution_count": 18,
     "metadata": {},
     "output_type": "execute_result"
    }
   ],
   "source": [
    "x_train.shape"
   ]
  },
  {
   "cell_type": "code",
   "execution_count": 19,
   "metadata": {},
   "outputs": [
    {
     "data": {
      "text/plain": [
       "(1039, 224, 224, 3)"
      ]
     },
     "execution_count": 19,
     "metadata": {},
     "output_type": "execute_result"
    }
   ],
   "source": [
    "x_test.shape"
   ]
  },
  {
   "cell_type": "code",
   "execution_count": 20,
   "metadata": {},
   "outputs": [
    {
     "name": "stderr",
     "output_type": "stream",
     "text": [
      "Using TensorFlow backend.\n"
     ]
    }
   ],
   "source": [
    "from keras.models import Sequential\n",
    "from scipy.misc import imread\n",
    "get_ipython().magic('matplotlib inline')\n",
    "import matplotlib.pyplot as plt\n",
    "import numpy as np\n",
    "import keras\n",
    "from keras.layers import Dense\n",
    "import pandas as pd\n",
    "\n",
    "from keras.applications.resnet50 import ResNet50\n",
    "from keras.preprocessing import image\n",
    "from keras.applications.resnet50 import preprocess_input\n",
    "import numpy as np\n",
    "from keras.applications.resnet50 import decode_predictions"
   ]
  },
  {
   "cell_type": "code",
   "execution_count": 21,
   "metadata": {},
   "outputs": [],
   "source": [
    "x_train = np.array(x_train , dtype = 'float')\n",
    "x_test = np.array(x_test , dtype = 'float')"
   ]
  },
  {
   "cell_type": "code",
   "execution_count": 22,
   "metadata": {
    "collapsed": true
   },
   "outputs": [],
   "source": [
    "train = preprocess_input(x_train)\n",
    "test = preprocess_input(x_test)"
   ]
  },
  {
   "cell_type": "code",
   "execution_count": 23,
   "metadata": {
    "collapsed": true
   },
   "outputs": [],
   "source": [
    "model = ResNet50(weights='imagenet', include_top = False)"
   ]
  },
  {
   "cell_type": "code",
   "execution_count": 24,
   "metadata": {
    "collapsed": true
   },
   "outputs": [],
   "source": [
    "features_train=model.predict(train)\n",
    "features_test=model.predict(test)"
   ]
  },
  {
   "cell_type": "code",
   "execution_count": 25,
   "metadata": {},
   "outputs": [
    {
     "name": "stdout",
     "output_type": "stream",
     "text": [
      "2048\n"
     ]
    }
   ],
   "source": [
    "train = features_train.reshape(features_train.shape[0] , -1)\n",
    "test = features_test.reshape(features_test.shape[0] , -1)\n",
    "training_epochs = 20\n",
    "n_dim = train.shape[1]\n",
    "print(n_dim)\n",
    "n_class = 2"
   ]
  },
  {
   "cell_type": "code",
   "execution_count": 26,
   "metadata": {
    "collapsed": true
   },
   "outputs": [],
   "source": [
    "from keras.activations import softmax\n",
    "import types\n",
    "import tempfile\n",
    "import keras.models\n",
    "from keras.layers import Activation, Dense"
   ]
  },
  {
   "cell_type": "code",
   "execution_count": 27,
   "metadata": {
    "collapsed": true
   },
   "outputs": [],
   "source": [
    "model=Sequential()\n",
    "\n",
    "model.add(Dense(100, input_dim= n_dim, activation='tanh',kernel_initializer='uniform'))\n",
    "keras.layers.core.Dropout(0.3, noise_shape=None, seed=None)\n",
    "\n",
    "model.add(Dense(50,input_dim=1000,activation='sigmoid'))\n",
    "keras.layers.core.Dropout(0.4, noise_shape=None, seed=None)\n",
    "\n",
    "model.add(Dense(15,input_dim=500,activation='sigmoid'))\n",
    "keras.layers.core.Dropout(0.2, noise_shape=None, seed=None)\n",
    "\n",
    "model.add(Dense(units=n_class))\n",
    "model.add(Activation('softmax'))\n",
    "\n",
    "\n",
    "\n",
    "model.compile(loss='categorical_crossentropy', optimizer=\"adam\", metrics=['accuracy'])"
   ]
  },
  {
   "cell_type": "code",
   "execution_count": 28,
   "metadata": {},
   "outputs": [
    {
     "name": "stdout",
     "output_type": "stream",
     "text": [
      "Train on 9348 samples, validate on 1039 samples\n",
      "Epoch 1/50\n",
      "9348/9348 [==============================] - 2s 200us/step - loss: 0.2599 - acc: 0.9031 - val_loss: 0.1834 - val_acc: 0.9297\n",
      "Epoch 2/50\n",
      "9348/9348 [==============================] - 1s 116us/step - loss: 0.1503 - acc: 0.9447 - val_loss: 0.1403 - val_acc: 0.9432\n",
      "Epoch 3/50\n",
      "9348/9348 [==============================] - 1s 134us/step - loss: 0.1035 - acc: 0.9617 - val_loss: 0.1045 - val_acc: 0.9605\n",
      "Epoch 4/50\n",
      "9348/9348 [==============================] - 1s 139us/step - loss: 0.0721 - acc: 0.9750 - val_loss: 0.0972 - val_acc: 0.9634\n",
      "Epoch 5/50\n",
      "9348/9348 [==============================] - 1s 134us/step - loss: 0.0603 - acc: 0.9792 - val_loss: 0.0812 - val_acc: 0.9731\n",
      "Epoch 6/50\n",
      "9348/9348 [==============================] - 1s 136us/step - loss: 0.0491 - acc: 0.9823 - val_loss: 0.0971 - val_acc: 0.9654\n",
      "Epoch 7/50\n",
      "9348/9348 [==============================] - 1s 129us/step - loss: 0.0413 - acc: 0.9858 - val_loss: 0.1032 - val_acc: 0.9654\n",
      "Epoch 8/50\n",
      "9348/9348 [==============================] - 1s 136us/step - loss: 0.0237 - acc: 0.9926 - val_loss: 0.1052 - val_acc: 0.9577\n",
      "Epoch 9/50\n",
      "9348/9348 [==============================] - 1s 129us/step - loss: 0.0301 - acc: 0.9883 - val_loss: 0.0999 - val_acc: 0.9663\n",
      "Epoch 10/50\n",
      "9348/9348 [==============================] - 1s 135us/step - loss: 0.0275 - acc: 0.9906 - val_loss: 0.0812 - val_acc: 0.9750\n",
      "Epoch 11/50\n",
      "9348/9348 [==============================] - 1s 125us/step - loss: 0.0290 - acc: 0.9893 - val_loss: 0.0709 - val_acc: 0.9779\n",
      "Epoch 12/50\n",
      "9348/9348 [==============================] - 1s 126us/step - loss: 0.0175 - acc: 0.9936 - val_loss: 0.0984 - val_acc: 0.9702\n",
      "Epoch 13/50\n",
      "9348/9348 [==============================] - 1s 128us/step - loss: 0.0236 - acc: 0.9907 - val_loss: 0.0891 - val_acc: 0.9759\n",
      "Epoch 14/50\n",
      "9348/9348 [==============================] - 1s 130us/step - loss: 0.0252 - acc: 0.9914 - val_loss: 0.0705 - val_acc: 0.9779\n",
      "Epoch 15/50\n",
      "9348/9348 [==============================] - 1s 127us/step - loss: 0.0099 - acc: 0.9968 - val_loss: 0.0638 - val_acc: 0.9798\n",
      "Epoch 16/50\n",
      "9348/9348 [==============================] - 1s 126us/step - loss: 0.0233 - acc: 0.9921 - val_loss: 0.0821 - val_acc: 0.9721\n",
      "Epoch 17/50\n",
      "9348/9348 [==============================] - 1s 126us/step - loss: 0.0147 - acc: 0.9938 - val_loss: 0.1755 - val_acc: 0.9500\n",
      "Epoch 18/50\n",
      "9348/9348 [==============================] - 1s 125us/step - loss: 0.0196 - acc: 0.9927 - val_loss: 0.0927 - val_acc: 0.9711\n",
      "Epoch 19/50\n",
      "9348/9348 [==============================] - 1s 128us/step - loss: 0.0142 - acc: 0.9950 - val_loss: 0.0841 - val_acc: 0.9769\n",
      "Epoch 20/50\n",
      "9348/9348 [==============================] - 1s 127us/step - loss: 0.0159 - acc: 0.9944 - val_loss: 0.1105 - val_acc: 0.9702\n",
      "Epoch 21/50\n",
      "9348/9348 [==============================] - 1s 140us/step - loss: 0.0144 - acc: 0.9945 - val_loss: 0.0845 - val_acc: 0.9740\n",
      "Epoch 22/50\n",
      "9348/9348 [==============================] - 1s 140us/step - loss: 0.0080 - acc: 0.9980 - val_loss: 0.0844 - val_acc: 0.9759\n",
      "Epoch 23/50\n",
      "9348/9348 [==============================] - 1s 131us/step - loss: 0.0202 - acc: 0.9932 - val_loss: 0.1341 - val_acc: 0.9596\n",
      "Epoch 24/50\n",
      "9348/9348 [==============================] - 1s 127us/step - loss: 0.0180 - acc: 0.9934 - val_loss: 0.0999 - val_acc: 0.9769\n",
      "Epoch 25/50\n",
      "9348/9348 [==============================] - 1s 127us/step - loss: 0.0070 - acc: 0.9975 - val_loss: 0.0924 - val_acc: 0.9692\n",
      "Epoch 26/50\n",
      "9348/9348 [==============================] - 1s 125us/step - loss: 0.0190 - acc: 0.9922 - val_loss: 0.0888 - val_acc: 0.9750\n",
      "Epoch 27/50\n",
      "9348/9348 [==============================] - 1s 130us/step - loss: 0.0195 - acc: 0.9929 - val_loss: 0.1021 - val_acc: 0.9702\n",
      "Epoch 28/50\n",
      "9348/9348 [==============================] - 1s 137us/step - loss: 0.0130 - acc: 0.9957 - val_loss: 0.0800 - val_acc: 0.9779\n",
      "Epoch 29/50\n",
      "9348/9348 [==============================] - 1s 130us/step - loss: 0.0018 - acc: 0.9998 - val_loss: 0.0962 - val_acc: 0.9788\n",
      "Epoch 30/50\n",
      "9348/9348 [==============================] - 1s 127us/step - loss: 0.0014 - acc: 0.9998 - val_loss: 0.0933 - val_acc: 0.9798\n",
      "Epoch 31/50\n",
      "9348/9348 [==============================] - 1s 133us/step - loss: 4.8955e-04 - acc: 1.0000 - val_loss: 0.0894 - val_acc: 0.9750\n",
      "Epoch 32/50\n",
      "9348/9348 [==============================] - 1s 126us/step - loss: 2.6766e-04 - acc: 1.0000 - val_loss: 0.0902 - val_acc: 0.9779\n",
      "Epoch 33/50\n",
      "9348/9348 [==============================] - 1s 147us/step - loss: 2.1767e-04 - acc: 1.0000 - val_loss: 0.0926 - val_acc: 0.9769\n",
      "Epoch 34/50\n",
      "9348/9348 [==============================] - 1s 131us/step - loss: 1.8461e-04 - acc: 1.0000 - val_loss: 0.0940 - val_acc: 0.9769\n",
      "Epoch 35/50\n",
      "9348/9348 [==============================] - 1s 126us/step - loss: 1.5851e-04 - acc: 1.0000 - val_loss: 0.0959 - val_acc: 0.9779\n",
      "Epoch 36/50\n",
      "9348/9348 [==============================] - 1s 126us/step - loss: 1.3702e-04 - acc: 1.0000 - val_loss: 0.0969 - val_acc: 0.9779\n",
      "Epoch 37/50\n",
      "9348/9348 [==============================] - 1s 125us/step - loss: 1.1898e-04 - acc: 1.0000 - val_loss: 0.0982 - val_acc: 0.9779\n",
      "Epoch 38/50\n",
      "9348/9348 [==============================] - 1s 126us/step - loss: 1.0396e-04 - acc: 1.0000 - val_loss: 0.0998 - val_acc: 0.9779\n",
      "Epoch 39/50\n",
      "9348/9348 [==============================] - 1s 126us/step - loss: 9.0833e-05 - acc: 1.0000 - val_loss: 0.1018 - val_acc: 0.9788\n",
      "Epoch 40/50\n",
      "9348/9348 [==============================] - 1s 126us/step - loss: 7.9447e-05 - acc: 1.0000 - val_loss: 0.1029 - val_acc: 0.9788\n",
      "Epoch 41/50\n",
      "9348/9348 [==============================] - 1s 124us/step - loss: 6.9467e-05 - acc: 1.0000 - val_loss: 0.1047 - val_acc: 0.9788\n",
      "Epoch 42/50\n",
      "9348/9348 [==============================] - 1s 125us/step - loss: 6.0615e-05 - acc: 1.0000 - val_loss: 0.1055 - val_acc: 0.9779\n",
      "Epoch 43/50\n",
      "9348/9348 [==============================] - 1s 126us/step - loss: 5.3005e-05 - acc: 1.0000 - val_loss: 0.1074 - val_acc: 0.9779\n",
      "Epoch 44/50\n",
      "9348/9348 [==============================] - 1s 125us/step - loss: 4.6229e-05 - acc: 1.0000 - val_loss: 0.1088 - val_acc: 0.9779\n",
      "Epoch 45/50\n",
      "9348/9348 [==============================] - 1s 126us/step - loss: 4.0356e-05 - acc: 1.0000 - val_loss: 0.1107 - val_acc: 0.9779\n",
      "Epoch 46/50\n",
      "9348/9348 [==============================] - 1s 132us/step - loss: 3.5155e-05 - acc: 1.0000 - val_loss: 0.1121 - val_acc: 0.9779\n",
      "Epoch 47/50\n",
      "9348/9348 [==============================] - 1s 126us/step - loss: 3.0647e-05 - acc: 1.0000 - val_loss: 0.1144 - val_acc: 0.9779\n",
      "Epoch 48/50\n",
      "9348/9348 [==============================] - 1s 124us/step - loss: 2.6675e-05 - acc: 1.0000 - val_loss: 0.1160 - val_acc: 0.9779\n",
      "Epoch 49/50\n",
      "9348/9348 [==============================] - 1s 125us/step - loss: 2.3191e-05 - acc: 1.0000 - val_loss: 0.1179 - val_acc: 0.9779\n",
      "Epoch 50/50\n",
      "9348/9348 [==============================] - 1s 127us/step - loss: 2.0189e-05 - acc: 1.0000 - val_loss: 0.1197 - val_acc: 0.9779\n"
     ]
    }
   ],
   "source": [
    "history = model.fit(train, y_train, epochs=50,validation_data=(test,y_test))"
   ]
  },
  {
   "cell_type": "code",
   "execution_count": 29,
   "metadata": {
    "collapsed": true
   },
   "outputs": [],
   "source": [
    "filename = 'breast_cancer2.h5'"
   ]
  },
  {
   "cell_type": "code",
   "execution_count": 30,
   "metadata": {
    "collapsed": true
   },
   "outputs": [],
   "source": [
    "os.chdir('..')"
   ]
  },
  {
   "cell_type": "code",
   "execution_count": 31,
   "metadata": {},
   "outputs": [],
   "source": [
    "model.save(filename)"
   ]
  },
  {
   "cell_type": "code",
   "execution_count": 32,
   "metadata": {},
   "outputs": [],
   "source": [
    "history_dict = history.history\n",
    "history_dict.keys()\n",
    "import matplotlib.pyplot as plt\n",
    "%matplotlib inline\n",
    "loss_values = history_dict['loss']\n",
    "val_loss_values = history_dict['val_loss']\n",
    "epochs = range(1, len(loss_values) + 1)"
   ]
  },
  {
   "cell_type": "code",
   "execution_count": 33,
   "metadata": {},
   "outputs": [
    {
     "data": {
      "image/png": "[encoded data removed]",
      "text/plain": [
       "<matplotlib.figure.Figure at 0x7efee54fcf60>"
      ]
     },
     "metadata": {},
     "output_type": "display_data"
    }
   ],
   "source": [
    "plt.plot(epochs, val_loss_values)\n",
    "plt.xlabel('Epochs')\n",
    "plt.ylabel('Loss')\n",
    "\n",
    "plt.show()"
   ]
  },
  {
   "cell_type": "code",
   "execution_count": 34,
   "metadata": {},
   "outputs": [
    {
     "data": {
      "image/png": "[encoded data removed]",
      "text/plain": [
       "<matplotlib.figure.Figure at 0x7efee54e7fd0>"
      ]
     },
     "metadata": {},
     "output_type": "display_data"
    }
   ],
   "source": [
    "plt.plot(epochs, loss_values)\n",
    "plt.xlabel('Epochs')\n",
    "plt.ylabel('Loss')\n",
    "\n",
    "plt.show()"
   ]
  },
  {
   "cell_type": "code",
   "execution_count": 35,
   "metadata": {},
   "outputs": [
    {
     "data": {
      "image/png": "[encoded data removed]",
      "text/plain": [
       "<matplotlib.figure.Figure at 0x7efee557ab38>"
      ]
     },
     "metadata": {},
     "output_type": "display_data"
    }
   ],
   "source": [
    "acc_values = history_dict['acc']\n",
    "val_acc_values = history_dict['val_acc']\n",
    "plt.plot(epochs, val_acc_values)\n",
    "plt.xlabel('Epochs')\n",
    "plt.ylabel('Accuracy')\n",
    "\n",
    "plt.show()"
   ]
  },
  {
   "cell_type": "code",
   "execution_count": 36,
   "metadata": {
    "collapsed": true
   },
   "outputs": [],
   "source": [
    "arr = image_array('test2.png' , 224)\n",
    "arr = np.array(arr , dtype = 'float')"
   ]
  },
  {
   "cell_type": "code",
   "execution_count": 37,
   "metadata": {
    "collapsed": true
   },
   "outputs": [],
   "source": [
    "y = preprocess_input(arr)\n",
    "y = np.reshape(y, (1,224,224,3))"
   ]
  },
  {
   "cell_type": "code",
   "execution_count": 38,
   "metadata": {
    "collapsed": true
   },
   "outputs": [],
   "source": [
    "model1 = ResNet50(weights='imagenet', include_top = False)"
   ]
  },
  {
   "cell_type": "code",
   "execution_count": 39,
   "metadata": {
    "collapsed": true
   },
   "outputs": [],
   "source": [
    "x = model1.predict(y)"
   ]
  },
  {
   "cell_type": "code",
   "execution_count": 40,
   "metadata": {
    "collapsed": true
   },
   "outputs": [],
   "source": [
    "train = x.reshape(x.shape[0] , -1)"
   ]
  },
  {
   "cell_type": "code",
   "execution_count": 41,
   "metadata": {
    "collapsed": true
   },
   "outputs": [],
   "source": [
    "y = model.predict(train)"
   ]
  },
  {
   "cell_type": "code",
   "execution_count": 42,
   "metadata": {},
   "outputs": [
    {
     "name": "stdout",
     "output_type": "stream",
     "text": [
      "[[2.7224401e-05 9.9997282e-01]]\n"
     ]
    }
   ],
   "source": [
    "print(y)"
   ]
  },
  {
   "cell_type": "code",
   "execution_count": null,
   "metadata": {
    "collapsed": true
   },
   "outputs": [],
   "source": []
  }
 ],
 "metadata": {
  "kernelspec": {
   "display_name": "Python 3",
   "language": "python",
   "name": "python3"
  },
  "language_info": {
   "codemirror_mode": {
    "name": "ipython",
    "version": 3
   },
   "file_extension": ".py",
   "mimetype": "text/x-python",
   "name": "python",
   "nbconvert_exporter": "python",
   "pygments_lexer": "ipython3",
   "version": "3.6.3"
  }
 },
 "nbformat": 4,
 "nbformat_minor": 2
}
